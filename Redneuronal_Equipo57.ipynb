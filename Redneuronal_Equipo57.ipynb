{
  "cells": [
    {
      "cell_type": "markdown",
      "metadata": {
        "id": "VFj0sSM06dYa"
      },
      "source": [
        "#**Maestría en Inteligencia Artificial Aplicada**\n",
        "##**Curso: Inteligencia Artificial y Aprendizaje Automático**\n",
        "###Tecnológico de Monterrey\n",
        "###Prof Luis Eduardo Falcón Morales\n",
        "\n",
        "## **Adtividad de la Semana 7**\n",
        "###**Red Neuronal Artificial - Perceptrón Multicapa : Multilayer Perceptrón (MLP)**\n"
      ]
    },
    {
      "cell_type": "markdown",
      "metadata": {
        "id": "Qgrvy0RGB9XI"
      },
      "source": [
        "**Nombres y matrículas de los integrantes del equipo:**\n",
        "\n",
        "* Erick de Jesus Hernández Cerecedo - A01066428\n",
        "* Johan Andres Castro Gomez - A01793556\n",
        "* David Valles Canedo - A01191310\n",
        "* Octavio Edelberto Reyes Torres - A00269987\n",
        "* Francisco Xavier Bastidas Moreno - A01794188\n"
      ]
    },
    {
      "cell_type": "markdown",
      "metadata": {
        "id": "FrJ2ahMODVj1"
      },
      "source": [
        "En cada sección deberás incluir todas las líneas de código necesarias para responder a cada uno de los ejercicios."
      ]
    },
    {
      "cell_type": "code",
      "execution_count": null,
      "metadata": {
        "id": "exXsscs-Dh-2"
      },
      "outputs": [],
      "source": [
        "# Incluye aquí todos módulos, librerías y paquetes que requieras.\n",
        "import pandas as pd\n",
        "import numpy as np\n",
        "import matplotlib.pyplot as plt \n",
        "import seaborn as sns\n",
        "\n",
        "from sklearn.model_selection import train_test_split\n",
        "from sklearn.model_selection import cross_validate\n",
        "\n",
        "from sklearn.pipeline import Pipeline\n",
        "from sklearn.impute import SimpleImputer\n",
        "\n",
        "from sklearn.preprocessing import OneHotEncoder  \n",
        "from sklearn.preprocessing import StandardScaler \n",
        "from sklearn.preprocessing import MinMaxScaler\n",
        "from sklearn.preprocessing import PowerTransformer\n",
        "from sklearn.preprocessing import StandardScaler\n",
        "\n",
        "from sklearn.compose import ColumnTransformer\n",
        "\n",
        "from sklearn.dummy import DummyRegressor\n",
        "\n",
        "from sklearn.metrics import make_scorer\n",
        "from sklearn.metrics import r2_score\n",
        "\n",
        "from sklearn.ensemble import RandomForestRegressor\n",
        "from sklearn.neural_network import MLPRegressor\n",
        "from sklearn.linear_model import LinearRegression\n",
        "from sklearn.linear_model import Ridge\n",
        "from sklearn.linear_model import Lasso\n",
        "\n",
        "from sklearn.model_selection import cross_val_score\n",
        "from sklearn.model_selection import RepeatedKFold\n",
        "from sklearn.model_selection import GridSearchCV\n",
        "from sklearn.model_selection import RandomizedSearchCV\n",
        "\n",
        "from sklearn.inspection import permutation_importance"
      ]
    },
    {
      "cell_type": "markdown",
      "metadata": {
        "id": "X25brD-gQdZM"
      },
      "source": [
        "#**Ejercicio-1.** "
      ]
    },
    {
      "cell_type": "code",
      "execution_count": null,
      "metadata": {
        "id": "3nU2GuWYCy6C",
        "outputId": "ec3e2f96-50bb-4b96-eb2f-00fa097f1721"
      },
      "outputs": [
        {
          "data": {
            "text/html": [
              "<div>\n",
              "<style scoped>\n",
              "    .dataframe tbody tr th:only-of-type {\n",
              "        vertical-align: middle;\n",
              "    }\n",
              "\n",
              "    .dataframe tbody tr th {\n",
              "        vertical-align: top;\n",
              "    }\n",
              "\n",
              "    .dataframe thead th {\n",
              "        text-align: right;\n",
              "    }\n",
              "</style>\n",
              "<table border=\"1\" class=\"dataframe\">\n",
              "  <thead>\n",
              "    <tr style=\"text-align: right;\">\n",
              "      <th></th>\n",
              "      <th>Page total likes</th>\n",
              "      <th>Type</th>\n",
              "      <th>Category</th>\n",
              "      <th>Post Month</th>\n",
              "      <th>Post Weekday</th>\n",
              "      <th>Post Hour</th>\n",
              "      <th>Paid</th>\n",
              "      <th>LPE</th>\n",
              "    </tr>\n",
              "  </thead>\n",
              "  <tbody>\n",
              "    <tr>\n",
              "      <th>0</th>\n",
              "      <td>139441</td>\n",
              "      <td>Photo</td>\n",
              "      <td>2</td>\n",
              "      <td>12</td>\n",
              "      <td>4</td>\n",
              "      <td>3</td>\n",
              "      <td>0.0</td>\n",
              "      <td>119</td>\n",
              "    </tr>\n",
              "    <tr>\n",
              "      <th>1</th>\n",
              "      <td>139441</td>\n",
              "      <td>Status</td>\n",
              "      <td>2</td>\n",
              "      <td>12</td>\n",
              "      <td>3</td>\n",
              "      <td>10</td>\n",
              "      <td>0.0</td>\n",
              "      <td>1108</td>\n",
              "    </tr>\n",
              "    <tr>\n",
              "      <th>2</th>\n",
              "      <td>139441</td>\n",
              "      <td>Photo</td>\n",
              "      <td>3</td>\n",
              "      <td>12</td>\n",
              "      <td>3</td>\n",
              "      <td>3</td>\n",
              "      <td>0.0</td>\n",
              "      <td>132</td>\n",
              "    </tr>\n",
              "    <tr>\n",
              "      <th>3</th>\n",
              "      <td>139441</td>\n",
              "      <td>Photo</td>\n",
              "      <td>2</td>\n",
              "      <td>12</td>\n",
              "      <td>2</td>\n",
              "      <td>10</td>\n",
              "      <td>1.0</td>\n",
              "      <td>1386</td>\n",
              "    </tr>\n",
              "    <tr>\n",
              "      <th>4</th>\n",
              "      <td>139441</td>\n",
              "      <td>Photo</td>\n",
              "      <td>2</td>\n",
              "      <td>12</td>\n",
              "      <td>2</td>\n",
              "      <td>3</td>\n",
              "      <td>0.0</td>\n",
              "      <td>396</td>\n",
              "    </tr>\n",
              "    <tr>\n",
              "      <th>...</th>\n",
              "      <td>...</td>\n",
              "      <td>...</td>\n",
              "      <td>...</td>\n",
              "      <td>...</td>\n",
              "      <td>...</td>\n",
              "      <td>...</td>\n",
              "      <td>...</td>\n",
              "      <td>...</td>\n",
              "    </tr>\n",
              "    <tr>\n",
              "      <th>495</th>\n",
              "      <td>85093</td>\n",
              "      <td>Photo</td>\n",
              "      <td>3</td>\n",
              "      <td>1</td>\n",
              "      <td>7</td>\n",
              "      <td>2</td>\n",
              "      <td>0.0</td>\n",
              "      <td>392</td>\n",
              "    </tr>\n",
              "    <tr>\n",
              "      <th>496</th>\n",
              "      <td>81370</td>\n",
              "      <td>Photo</td>\n",
              "      <td>2</td>\n",
              "      <td>1</td>\n",
              "      <td>5</td>\n",
              "      <td>8</td>\n",
              "      <td>0.0</td>\n",
              "      <td>301</td>\n",
              "    </tr>\n",
              "    <tr>\n",
              "      <th>497</th>\n",
              "      <td>81370</td>\n",
              "      <td>Photo</td>\n",
              "      <td>1</td>\n",
              "      <td>1</td>\n",
              "      <td>5</td>\n",
              "      <td>2</td>\n",
              "      <td>0.0</td>\n",
              "      <td>363</td>\n",
              "    </tr>\n",
              "    <tr>\n",
              "      <th>498</th>\n",
              "      <td>81370</td>\n",
              "      <td>Photo</td>\n",
              "      <td>3</td>\n",
              "      <td>1</td>\n",
              "      <td>4</td>\n",
              "      <td>11</td>\n",
              "      <td>0.0</td>\n",
              "      <td>370</td>\n",
              "    </tr>\n",
              "    <tr>\n",
              "      <th>499</th>\n",
              "      <td>81370</td>\n",
              "      <td>Photo</td>\n",
              "      <td>2</td>\n",
              "      <td>1</td>\n",
              "      <td>4</td>\n",
              "      <td>4</td>\n",
              "      <td>NaN</td>\n",
              "      <td>316</td>\n",
              "    </tr>\n",
              "  </tbody>\n",
              "</table>\n",
              "<p>500 rows × 8 columns</p>\n",
              "</div>"
            ],
            "text/plain": [
              "     Page total likes    Type  Category  Post Month  Post Weekday  Post Hour  \\\n",
              "0              139441   Photo         2          12             4          3   \n",
              "1              139441  Status         2          12             3         10   \n",
              "2              139441   Photo         3          12             3          3   \n",
              "3              139441   Photo         2          12             2         10   \n",
              "4              139441   Photo         2          12             2          3   \n",
              "..                ...     ...       ...         ...           ...        ...   \n",
              "495             85093   Photo         3           1             7          2   \n",
              "496             81370   Photo         2           1             5          8   \n",
              "497             81370   Photo         1           1             5          2   \n",
              "498             81370   Photo         3           1             4         11   \n",
              "499             81370   Photo         2           1             4          4   \n",
              "\n",
              "     Paid   LPE  \n",
              "0     0.0   119  \n",
              "1     0.0  1108  \n",
              "2     0.0   132  \n",
              "3     1.0  1386  \n",
              "4     0.0   396  \n",
              "..    ...   ...  \n",
              "495   0.0   392  \n",
              "496   0.0   301  \n",
              "497   0.0   363  \n",
              "498   0.0   370  \n",
              "499   NaN   316  \n",
              "\n",
              "[500 rows x 8 columns]"
            ]
          },
          "execution_count": 330,
          "metadata": {},
          "output_type": "execute_result"
        }
      ],
      "source": [
        "#path dataset\n",
        "path = \"Facebook_metrics\\dataset_Facebook.csv\"\n",
        "\n",
        "#read data set as pandas data frame\n",
        "df = pd.read_csv(path, sep = \";\")\n",
        "\n",
        "#Columns to be used in the modelo\n",
        "columns = ['Page total likes', 'Type', 'Category', 'Post Month', 'Post Weekday','Post Hour', 'Paid', 'Lifetime People who have liked your Page and engaged with your post']\n",
        "df = df[columns]\n",
        "\n",
        "#Rename output variable\n",
        "df.rename(columns={'Lifetime People who have liked your Page and engaged with your post':'LPE'}, inplace=True)\n",
        "\n",
        "df"
      ]
    },
    {
      "cell_type": "markdown",
      "metadata": {
        "id": "xZhr2hkECzVv"
      },
      "source": [
        "#**Ejercicio-2.**"
      ]
    },
    {
      "cell_type": "code",
      "execution_count": null,
      "metadata": {
        "id": "kGfAoOPkC1PP"
      },
      "outputs": [],
      "source": [
        "#Partición de datos, 400 registros para entrenamiento y 100 para test\n",
        "X_train, X_test, y_train, y_test = train_test_split(df.drop('LPE', axis=1), df[['LPE']], test_size = 100)"
      ]
    },
    {
      "cell_type": "markdown",
      "metadata": {
        "id": "NCunuooTC2W3"
      },
      "source": [
        "#**Ejercicio-3.**"
      ]
    },
    {
      "cell_type": "code",
      "execution_count": null,
      "metadata": {
        "id": "YXlcSWA-C4Dj"
      },
      "outputs": [],
      "source": [
        "#Defiición - RMSE\n",
        "def mi_RMSE(yreal, ypred):\n",
        "    return np.sqrt(np.mean(np.square(yreal-ypred)))\n",
        "\n",
        "#Defiición - MAE\n",
        "def mi_MAE(yreal, ypred):\n",
        "    return np.mean(np.abs(yreal - ypred))\n",
        "\n",
        "#Defiición - MAPE\n",
        "def mi_MAPE(yreal, ypred):\n",
        "    return np.mean(np.abs((yreal - ypred)/yreal))"
      ]
    },
    {
      "cell_type": "markdown",
      "metadata": {
        "id": "chqk9jIDC5Pq"
      },
      "source": [
        "#**Ejercicio-4.**"
      ]
    },
    {
      "cell_type": "code",
      "execution_count": null,
      "metadata": {
        "id": "RBVSFwK4C6g9",
        "outputId": "e93bb6dc-346f-4644-acc3-4d1dc487dbd2"
      },
      "outputs": [
        {
          "data": {
            "text/plain": [
              "Page total likes    False\n",
              "Type                False\n",
              "Category            False\n",
              "Post Month          False\n",
              "Post Weekday        False\n",
              "Post Hour           False\n",
              "Paid                 True\n",
              "LPE                 False\n",
              "dtype: bool"
            ]
          },
          "execution_count": 333,
          "metadata": {},
          "output_type": "execute_result"
        }
      ],
      "source": [
        "df.isnull().any()"
      ]
    },
    {
      "cell_type": "code",
      "execution_count": null,
      "metadata": {
        "id": "7KXnlNzAC69Y",
        "outputId": "d458f177-3c16-4bfe-e314-24ac592a0ae7"
      },
      "outputs": [
        {
          "data": {
            "text/html": [
              "<div>\n",
              "<style scoped>\n",
              "    .dataframe tbody tr th:only-of-type {\n",
              "        vertical-align: middle;\n",
              "    }\n",
              "\n",
              "    .dataframe tbody tr th {\n",
              "        vertical-align: top;\n",
              "    }\n",
              "\n",
              "    .dataframe thead th {\n",
              "        text-align: right;\n",
              "    }\n",
              "</style>\n",
              "<table border=\"1\" class=\"dataframe\">\n",
              "  <thead>\n",
              "    <tr style=\"text-align: right;\">\n",
              "      <th></th>\n",
              "      <th>Page total likes</th>\n",
              "      <th>Type</th>\n",
              "      <th>Category</th>\n",
              "      <th>Post Month</th>\n",
              "      <th>Post Weekday</th>\n",
              "      <th>Post Hour</th>\n",
              "      <th>Paid</th>\n",
              "      <th>LPE</th>\n",
              "    </tr>\n",
              "  </thead>\n",
              "  <tbody>\n",
              "    <tr>\n",
              "      <th>499</th>\n",
              "      <td>81370</td>\n",
              "      <td>Photo</td>\n",
              "      <td>2</td>\n",
              "      <td>1</td>\n",
              "      <td>4</td>\n",
              "      <td>4</td>\n",
              "      <td>NaN</td>\n",
              "      <td>316</td>\n",
              "    </tr>\n",
              "  </tbody>\n",
              "</table>\n",
              "</div>"
            ],
            "text/plain": [
              "     Page total likes   Type  Category  Post Month  Post Weekday  Post Hour  \\\n",
              "499             81370  Photo         2           1             4          4   \n",
              "\n",
              "     Paid  LPE  \n",
              "499   NaN  316  "
            ]
          },
          "execution_count": 334,
          "metadata": {},
          "output_type": "execute_result"
        }
      ],
      "source": [
        "df[df['Paid'].isnull()]"
      ]
    },
    {
      "cell_type": "code",
      "execution_count": null,
      "metadata": {
        "id": "qPpFn-SO2c6J",
        "outputId": "65d0721e-37b7-4038-a43e-634403c239a8"
      },
      "outputs": [
        {
          "data": {
            "text/plain": [
              "(array([ 18.,  14.,  16.,  19.,  26.,  17.,  29.,  42.,  66., 153.]),\n",
              " array([ 81370. ,  87177.1,  92984.2,  98791.3, 104598.4, 110405.5,\n",
              "        116212.6, 122019.7, 127826.8, 133633.9, 139441. ]),\n",
              " <BarContainer object of 10 artists>)"
            ]
          },
          "execution_count": 335,
          "metadata": {},
          "output_type": "execute_result"
        },
        {
          "data": {
            "image/png": "[encoded data removed]",
            "text/plain": [
              "<Figure size 576x288 with 1 Axes>"
            ]
          },
          "metadata": {},
          "output_type": "display_data"
        }
      ],
      "source": [
        "plt.hist(X_train['Page total likes'])"
      ]
    },
    {
      "cell_type": "code",
      "execution_count": null,
      "metadata": {
        "id": "h-wIVDVk2c6J",
        "outputId": "5c1ddbfd-2efe-4d6b-9995-37ef3146590f"
      },
      "outputs": [
        {
          "data": {
            "text/plain": [
              "(array([227., 104.,  28.,  15.,  12.,   7.,   1.,   3.,   0.,   3.]),\n",
              " array([   9. ,  445.7,  882.4, 1319.1, 1755.8, 2192.5, 2629.2, 3065.9,\n",
              "        3502.6, 3939.3, 4376. ]),\n",
              " <BarContainer object of 10 artists>)"
            ]
          },
          "execution_count": 336,
          "metadata": {},
          "output_type": "execute_result"
        },
        {
          "data": {
            "image/png": "[encoded data removed]",
            "text/plain": [
              "<Figure size 576x288 with 1 Axes>"
            ]
          },
          "metadata": {},
          "output_type": "display_data"
        }
      ],
      "source": [
        "plt.hist(y_train['LPE'])"
      ]
    },
    {
      "cell_type": "code",
      "execution_count": null,
      "metadata": {
        "id": "br__lfyY2c6J"
      },
      "outputs": [],
      "source": [
        "#Pipeline variables númericas\n",
        "#numerical_pipeline = Pipeline(steps=[('imputer',SimpleImputer(strategy='median')), ('num_transformation', StandardScaler())]) \n",
        "#numerical_pipeline = Pipeline(steps=[('imputer',SimpleImputer(strategy='median')), ('num_transformation', PowerTransformer(method='yeo-johnson'))])\n",
        "numerical_pipeline = Pipeline(steps=[('imputer',SimpleImputer(strategy='median')), ('num_transformation', PowerTransformer(method='yeo-johnson')), ('num_transformation2', MinMaxScaler((1,2)))]) \n",
        "\n",
        "#Pipeline variable categoricas\n",
        "categorical_pipeline = Pipeline(steps=[('imputer', SimpleImputer(strategy='most_frequent')),('encoder', OneHotEncoder(handle_unknown=\"ignore\"))]) "
      ]
    },
    {
      "cell_type": "code",
      "execution_count": null,
      "metadata": {
        "id": "_o8tCCW52c6J"
      },
      "outputs": [],
      "source": [
        "X_v_num = ['Page total likes']\n",
        "X_v_cat = ['Type', 'Category', 'Post Month', 'Post Weekday','Post Hour', 'Paid']\n",
        "\n",
        "y_v_num = ['LPE']"
      ]
    },
    {
      "cell_type": "code",
      "execution_count": null,
      "metadata": {
        "id": "1UrjUOJm2c6K"
      },
      "outputs": [],
      "source": [
        "x_col_transform = ColumnTransformer(\n",
        "                                    transformers=\n",
        "                                    [('numerical_t',numerical_pipeline, X_v_num),\n",
        "                                    ('category_t',categorical_pipeline,X_v_cat)],\n",
        "                                    remainder='passthrough'\n",
        "                                    )\n",
        "y_col_transform = ColumnTransformer(\n",
        "                                    transformers=\n",
        "                                    [('numerical_t',numerical_pipeline, y_v_num)],\n",
        "                                    remainder='passthrough'\n",
        "                                    )\n",
        "\n",
        "X_fit = x_col_transform.fit(X_train)\n",
        "y_fit = y_col_transform.fit(y_train)\n",
        "\n",
        "X_train_t = X_fit.transform(X_train).toarray()\n",
        "X_test_t = X_fit.transform(X_test).toarray()\n",
        "\n",
        "y_train_t = y_fit.transform(y_train)\n",
        "y_test_t = y_fit.transform(y_test)"
      ]
    },
    {
      "cell_type": "code",
      "execution_count": null,
      "metadata": {
        "id": "REpaotjn2c6K",
        "outputId": "9205dbac-18b8-4c35-f98d-25e94600c3d8"
      },
      "outputs": [
        {
          "data": {
            "text/plain": [
              "(array([44., 28., 30., 32., 14., 33., 29., 40., 61., 89.]),\n",
              " array([1. , 1.1, 1.2, 1.3, 1.4, 1.5, 1.6, 1.7, 1.8, 1.9, 2. ]),\n",
              " <BarContainer object of 10 artists>)"
            ]
          },
          "execution_count": 493,
          "metadata": {},
          "output_type": "execute_result"
        },
        {
          "data": {
            "image/png": "[encoded data removed]",
            "text/plain": [
              "<Figure size 576x288 with 1 Axes>"
            ]
          },
          "metadata": {},
          "output_type": "display_data"
        }
      ],
      "source": [
        "plt.hist(X_train_t[:,0])"
      ]
    },
    {
      "cell_type": "code",
      "execution_count": null,
      "metadata": {
        "id": "Ttk0Oa7z2c6K",
        "outputId": "8c86df97-e8d6-4682-f70e-748f31abca3d"
      },
      "outputs": [
        {
          "data": {
            "text/plain": [
              "(array([ 1.,  0.,  1.,  6., 20., 38., 17., 11.,  4.,  2.]),\n",
              " array([1.06126711, 1.15222119, 1.24317528, 1.33412936, 1.42508345,\n",
              "        1.51603753, 1.60699161, 1.6979457 , 1.78889978, 1.87985387,\n",
              "        1.97080795]),\n",
              " <BarContainer object of 10 artists>)"
            ]
          },
          "execution_count": 494,
          "metadata": {},
          "output_type": "execute_result"
        },
        {
          "data": {
            "image/png": "[encoded data removed]",
            "text/plain": [
              "<Figure size 576x288 with 1 Axes>"
            ]
          },
          "metadata": {},
          "output_type": "display_data"
        }
      ],
      "source": [
        "plt.hist(y_test_t)"
      ]
    },
    {
      "cell_type": "markdown",
      "metadata": {
        "id": "Rv7KFq-mC7PS"
      },
      "source": [
        "#**Ejercicio-5.**"
      ]
    },
    {
      "cell_type": "code",
      "execution_count": null,
      "metadata": {
        "id": "jaDj3kawC9B6",
        "outputId": "40d6b6d1-db64-43b7-9589-d7e2723cf8bb"
      },
      "outputs": [
        {
          "name": "stdout",
          "output_type": "stream",
          "text": [
            "RMSE Entrenamineto: 0.14329963981533192\n",
            "RMSE Validación: 0.1489642135906887\n",
            "MAE Entrenamineto: 0.10223208928302042\n",
            "MAE Validación: 0.10462543388335403\n",
            "MAPE Entrenamineto: 0.06561292081406604\n",
            "MAPE Validación: 0.06947732796372605\n"
          ]
        }
      ],
      "source": [
        "X_train_dummy, X_valid_dummy, y_train_dummy, y_valid_dummy = train_test_split(X_train_t,y_train_t, test_size = 100)\n",
        "dummy_regr = DummyRegressor(strategy=\"median\")\n",
        "\n",
        "dummy_model = dummy_regr.fit(X_train_dummy,y_train_dummy)\n",
        "\n",
        "y_pred_train = dummy_model.predict(X_train_dummy)\n",
        "y_pred_valid = dummy_model.predict(X_valid_dummy)\n",
        "\n",
        "print('RMSE Entrenamineto: ' + str(mi_RMSE(y_train_dummy,y_pred_train)) +\n",
        "      '\\nRMSE Validación: ' + str(mi_RMSE(y_valid_dummy,y_pred_valid)) +\n",
        "      '\\nMAE Entrenamineto: ' + str(mi_MAE(y_train_dummy,y_pred_train)) +\n",
        "      '\\nMAE Validación: ' + str(mi_MAE(y_valid_dummy,y_pred_valid)) +\n",
        "      '\\nMAPE Entrenamineto: ' + str(mi_MAPE(y_train_dummy,y_pred_train)) +\n",
        "      '\\nMAPE Validación: ' + str(mi_MAPE(y_valid_dummy,y_pred_valid))\n",
        "    )"
      ]
    },
    {
      "cell_type": "markdown",
      "metadata": {
        "id": "W2S7LI0NC9wE"
      },
      "source": [
        "#**Ejercicio-6.**"
      ]
    },
    {
      "cell_type": "code",
      "execution_count": null,
      "metadata": {
        "id": "x6uBleJUC_AU"
      },
      "outputs": [],
      "source": [
        "model_name = []\n",
        "models = []\n",
        "\n",
        "# Regresión lineal multiple\n",
        "model_name.append('Regresión lineal multiple')\n",
        "models.append(LinearRegression())\n",
        "\n",
        "#Regresión lineal multiple-Ridge\n",
        "model_name.append('RLM-Ridge')\n",
        "models.append(Ridge())\n",
        "\n",
        "#Regresión lineal multiple-Lasso\n",
        "model_name.append('RLM-Lasso')\n",
        "models.append(Lasso())\n",
        "\n",
        "# Random forest\n",
        "model_name.append('Random forest')\n",
        "models.append(RandomForestRegressor())\n",
        "\n",
        "#Perceptrón multicapa\n",
        "model_name.append('Perceptrón multicapa')\n",
        "models.append(MLPRegressor(max_iter=1000))"
      ]
    },
    {
      "cell_type": "code",
      "execution_count": null,
      "metadata": {
        "id": "ZAEkHlXR2c6M"
      },
      "outputs": [],
      "source": [
        "from sklearn.metrics import mean_absolute_percentage_error"
      ]
    },
    {
      "cell_type": "code",
      "execution_count": null,
      "metadata": {
        "id": "QGwZB-aH2c6M"
      },
      "outputs": [],
      "source": [
        "metrics = {'RMSE': make_scorer(mi_RMSE), 'MAE': make_scorer(mi_MAE), 'MAPE': make_scorer(mi_MAPE)}"
      ]
    },
    {
      "cell_type": "code",
      "execution_count": null,
      "metadata": {
        "id": "OnBL_1p42c6M",
        "outputId": "728076a4-6882-4b34-ee0b-7e242d06d3ad"
      },
      "outputs": [
        {
          "data": {
            "text/plain": [
              "dict_keys(['RMSE', 'MAE', 'MAPE'])"
            ]
          },
          "execution_count": 499,
          "metadata": {},
          "output_type": "execute_result"
        }
      ],
      "source": [
        "metrics.keys()"
      ]
    },
    {
      "cell_type": "code",
      "execution_count": null,
      "metadata": {
        "id": "n0P_AcyjC_Dh",
        "outputId": "878ff4de-8f9c-486e-f062-fb834a2c5e40"
      },
      "outputs": [
        {
          "name": "stdout",
          "output_type": "stream",
          "text": [
            "Regresión lineal multiple\n",
            "\tRMSE\n",
            "\t\tTrain: 0.142 (0.0710)\n",
            "\t\tTest: 39306152667.432 (80703309849.4884)\n",
            "\tMAE\n",
            "\t\tTrain: 0.103 (0.0578)\n",
            "\t\tTest: 5414382965.024 (10866567284.8303)\n",
            "\tMAPE\n",
            "\t\tTrain: 0.067 (0.0373)\n",
            "\t\tTest: 3504917715.803 (6963670371.6000)\n",
            "RLM-Ridge\n",
            "\tRMSE\n",
            "\t\tTrain: 0.110 (0.0037)\n",
            "\t\tTest: 0.124 (0.0138)\n",
            "\tMAE\n",
            "\t\tTrain: 0.076 (0.0023)\n",
            "\t\tTest: 0.087 (0.0086)\n",
            "\tMAPE\n",
            "\t\tTrain: 0.050 (0.0016)\n",
            "\t\tTest: 0.057 (0.0057)\n",
            "RLM-Lasso\n",
            "\tRMSE\n",
            "\t\tTrain: 0.145 (0.0033)\n",
            "\t\tTest: 0.144 (0.0134)\n",
            "\tMAE\n",
            "\t\tTrain: 0.103 (0.0028)\n",
            "\t\tTest: 0.104 (0.0109)\n",
            "\tMAPE\n",
            "\t\tTrain: 0.067 (0.0019)\n",
            "\t\tTest: 0.067 (0.0074)\n",
            "Random forest\n",
            "\tRMSE\n",
            "\t\tTrain: 0.048 (0.0013)\n",
            "\t\tTest: 0.126 (0.0078)\n",
            "\tMAE\n",
            "\t\tTrain: 0.033 (0.0006)\n",
            "\t\tTest: 0.089 (0.0045)\n",
            "\tMAPE\n",
            "\t\tTrain: 0.022 (0.0004)\n",
            "\t\tTest: 0.058 (0.0035)\n",
            "Perceptrón multicapa\n",
            "\tRMSE\n",
            "\t\tTrain: 0.108 (0.0037)\n",
            "\t\tTest: 0.146 (0.0083)\n",
            "\tMAE\n",
            "\t\tTrain: 0.080 (0.0035)\n",
            "\t\tTest: 0.109 (0.0085)\n",
            "\tMAPE\n",
            "\t\tTrain: 0.052 (0.0022)\n",
            "\t\tTest: 0.070 (0.0054)\n"
          ]
        }
      ],
      "source": [
        "results = []\n",
        "\n",
        "for i, model in enumerate(models):\n",
        "    \n",
        "    kfold = RepeatedKFold(n_splits=5, n_repeats=3)\n",
        "\n",
        "    scores = cross_validate(\n",
        "                            estimator = model,\n",
        "                            X = X_train_t,\n",
        "                            y = y_train_t.ravel(),\n",
        "                            scoring=metrics,\n",
        "                            cv = kfold,\n",
        "                            return_train_score=True\n",
        "                            )\n",
        "\n",
        "    results.append(scores)\n",
        "\n",
        "    print(model_name[i])\n",
        "    for metric in metrics.keys():\n",
        "        print(\n",
        "            '\\t%s\\n\\t\\tTrain: %.3f (%.4f)\\n\\t\\tTest: %.3f (%.4f)' % (\n",
        "                                                                metric,\n",
        "                                                                np.mean(scores['train_'+ metric]), np.std(scores['train_'+ metric]),\n",
        "                                                                np.mean(scores['test_'+ metric]), np.std(scores['test_'+ metric])\n",
        "                                                                )\n",
        "        )\n",
        "        "
      ]
    },
    {
      "cell_type": "markdown",
      "metadata": {
        "id": "iCNGx4TQ8CFI"
      },
      "source": [
        "#**Ejercicio-7.**"
      ]
    },
    {
      "cell_type": "code",
      "execution_count": null,
      "metadata": {
        "id": "ewvwUcJX78y1",
        "outputId": "f5f8bab7-39e3-4697-c2a7-15154b407dbf"
      },
      "outputs": [
        {
          "data": {
            "image/png": "[encoded data removed]",
            "text/plain": [
              "<Figure size 576x288 with 1 Axes>"
            ]
          },
          "metadata": {},
          "output_type": "display_data"
        }
      ],
      "source": [
        "sns.set(rc={'figure.figsize':(8,4)})\n",
        "\n",
        "mape_r = list()\n",
        "for i in range(1,5):\n",
        "  rr = results[i]['test_MAPE']\n",
        "  mape_r.append(rr)\n",
        "\n",
        "plt.boxplot(mape_r, labels=model_name[1:], showmeans=True, showfliers = False)\n",
        "plt.show()"
      ]
    },
    {
      "cell_type": "code",
      "execution_count": null,
      "metadata": {
        "id": "2JKv2hz72c6N",
        "outputId": "6bff046c-dafb-4a91-d27c-4f9f82f1f5d9"
      },
      "outputs": [
        {
          "data": {
            "image/png": "[encoded data removed]",
            "text/plain": [
              "<Figure size 576x288 with 1 Axes>"
            ]
          },
          "metadata": {},
          "output_type": "display_data"
        }
      ],
      "source": [
        "sns.set(rc={'figure.figsize':(8,4)})\n",
        "\n",
        "mape_r = list()\n",
        "for i in range(1,5):\n",
        "  rr = results[i]['train_MAPE']\n",
        "  mape_r.append(rr)\n",
        "\n",
        "plt.boxplot(mape_r, labels=model_name[1:], showmeans=True, showfliers = False)\n",
        "plt.show()"
      ]
    },
    {
      "cell_type": "markdown",
      "metadata": {
        "id": "tzQn5NR78GFg"
      },
      "source": [
        "#**Ejercicio-8.**"
      ]
    },
    {
      "cell_type": "code",
      "execution_count": null,
      "metadata": {
        "id": "y7sgqrPM2c6N",
        "outputId": "98fe2d85-d6f1-45a4-b5dc-dcd48a070bc8"
      },
      "outputs": [
        {
          "data": {
            "text/plain": [
              "{'activation': 'relu',\n",
              " 'alpha': 0.0001,\n",
              " 'batch_size': 'auto',\n",
              " 'beta_1': 0.9,\n",
              " 'beta_2': 0.999,\n",
              " 'early_stopping': False,\n",
              " 'epsilon': 1e-08,\n",
              " 'hidden_layer_sizes': (100,),\n",
              " 'learning_rate': 'constant',\n",
              " 'learning_rate_init': 0.001,\n",
              " 'max_fun': 15000,\n",
              " 'max_iter': 1000,\n",
              " 'momentum': 0.9,\n",
              " 'n_iter_no_change': 10,\n",
              " 'nesterovs_momentum': True,\n",
              " 'power_t': 0.5,\n",
              " 'random_state': None,\n",
              " 'shuffle': True,\n",
              " 'solver': 'adam',\n",
              " 'tol': 0.0001,\n",
              " 'validation_fraction': 0.1,\n",
              " 'verbose': False,\n",
              " 'warm_start': False}"
            ]
          },
          "execution_count": 537,
          "metadata": {},
          "output_type": "execute_result"
        }
      ],
      "source": [
        "modelo_mlp_gs = MLPRegressor(max_iter=1000)\n",
        "modelo_mlp_gs.get_params()\n"
      ]
    },
    {
      "cell_type": "code",
      "execution_count": null,
      "metadata": {
        "id": "EBKcp0278IQV",
        "outputId": "876bf733-9dfe-42d1-f861-622338c3be43"
      },
      "outputs": [
        {
          "name": "stdout",
          "output_type": "stream",
          "text": [
            "El mejor score es: -0.05601167270673306\n",
            "El mejor parametro es: \n",
            " {'activation': 'tanh', 'alpha': 1e-05, 'hidden_layer_sizes': (300,), 'learning_rate': 'constant', 'learning_rate_init': 0.05, 'solver': 'sgd'}\n"
          ]
        }
      ],
      "source": [
        "modelo_mlp_gs = MLPRegressor(max_iter=500)\n",
        "kfold = RepeatedKFold(n_splits=5, n_repeats=3)\n",
        "\n",
        "Parametros = {'hidden_layer_sizes':[(50,30,10), (150,100,50), (20,20,2),(300,), (200,),(100,)],  \n",
        "              'alpha': [0.001, 0.0001, 0.00001], \n",
        "              'learning_rate_init':[0.05, 0.001],\n",
        "              'learning_rate': ['constant','adaptive'],\n",
        "              'activation': ['tanh', 'relu'],\n",
        "              'solver': ['sgd', 'adam']\n",
        "              }\n",
        "\n",
        "mlp_gridFinal = GridSearchCV(estimator=modelo_mlp_gs, param_grid = Parametros, scoring = make_scorer(mi_MAPE, greater_is_better=False), cv = kfold, n_jobs = -1)\n",
        "                            \n",
        "mlp_gridFinal.fit(X_train_t, np.ravel(y_train_t))\n",
        "\n",
        "mlp_best_score = mlp_gridFinal.best_score_\n",
        "mlp_best_param = mlp_gridFinal.best_params_\n",
        "print(\"El mejor score es:\", mlp_best_score)\n",
        "print(\"El mejor parametro es: \\n\", mlp_best_param)"
      ]
    },
    {
      "cell_type": "code",
      "execution_count": null,
      "metadata": {
        "id": "gRHzn1it2c6O",
        "outputId": "074462c8-e799-46a8-ad33-b9315700f3b3"
      },
      "outputs": [
        {
          "data": {
            "text/plain": [
              "Text(0, 0.5, 'y_train_predict')"
            ]
          },
          "execution_count": 565,
          "metadata": {},
          "output_type": "execute_result"
        },
        {
          "data": {
            "image/png": "[encoded data removed]",
            "text/plain": [
              "<Figure size 720x720 with 1 Axes>"
            ]
          },
          "metadata": {},
          "output_type": "display_data"
        }
      ],
      "source": [
        "figure, ax = plt.subplots(figsize=(10,10))\n",
        "yhat = mlp_gridFinal.predict(X_train_t)\n",
        "\n",
        "plt.scatter(y_train_t.ravel(),yhat)\n",
        "line= np.linspace(min(y_train_t),max(y_train_t),10)\n",
        "plt.plot(line, line)\n",
        "plt.xlabel(\"y_train_real\")\n",
        "plt.ylabel(\"y_train_predict\")"
      ]
    },
    {
      "cell_type": "markdown",
      "metadata": {
        "id": "mASNrZWs8JTh"
      },
      "source": [
        "#**Ejercicio-9.**"
      ]
    },
    {
      "cell_type": "code",
      "execution_count": null,
      "metadata": {
        "id": "X6HJP9hb8LCp",
        "outputId": "ba8bae31-0cf8-42da-d2b3-32d24db9451b"
      },
      "outputs": [
        {
          "name": "stdout",
          "output_type": "stream",
          "text": [
            "Feature: 0, Score: 0.84023\n",
            "Feature: 1, Score: 0.09424\n",
            "Feature: 2, Score: 0.00043\n",
            "Feature: 3, Score: 0.45040\n",
            "Feature: 4, Score: 0.01063\n",
            "Feature: 5, Score: 0.64485\n",
            "Feature: 6, Score: 0.35518\n",
            "Feature: 7, Score: 0.37567\n",
            "Feature: 8, Score: 0.11437\n",
            "Feature: 9, Score: 0.23014\n",
            "Feature: 10, Score: 0.06185\n",
            "Feature: 11, Score: 0.15146\n",
            "Feature: 12, Score: 0.04274\n",
            "Feature: 13, Score: 0.01038\n",
            "Feature: 14, Score: 0.01204\n",
            "Feature: 15, Score: 0.01138\n",
            "Feature: 16, Score: 0.02046\n",
            "Feature: 17, Score: 0.17155\n",
            "Feature: 18, Score: 0.37454\n",
            "Feature: 19, Score: 0.35383\n",
            "Feature: 20, Score: 0.05874\n",
            "Feature: 21, Score: 0.02632\n",
            "Feature: 22, Score: 0.06057\n",
            "Feature: 23, Score: 0.05223\n",
            "Feature: 24, Score: 0.01427\n",
            "Feature: 25, Score: 0.03028\n",
            "Feature: 26, Score: 0.02283\n",
            "Feature: 27, Score: 0.00015\n",
            "Feature: 28, Score: 0.00084\n",
            "Feature: 29, Score: 0.01378\n",
            "Feature: 30, Score: 0.00603\n",
            "Feature: 31, Score: 0.00185\n",
            "Feature: 32, Score: 0.00069\n",
            "Feature: 33, Score: 0.00168\n",
            "Feature: 34, Score: 0.00481\n",
            "Feature: 35, Score: 0.00060\n",
            "Feature: 36, Score: 0.02058\n",
            "Feature: 37, Score: 0.00164\n",
            "Feature: 38, Score: 0.00602\n",
            "Feature: 39, Score: 0.01195\n",
            "Feature: 40, Score: 0.00029\n",
            "Feature: 41, Score: 0.00094\n",
            "Feature: 42, Score: 0.00026\n",
            "Feature: 43, Score: 0.00092\n",
            "Feature: 44, Score: 0.00198\n",
            "Feature: 45, Score: 0.00073\n",
            "Feature: 46, Score: -0.00010\n",
            "Feature: 47, Score: 0.64014\n",
            "Feature: 48, Score: 0.92964\n"
          ]
        },
        {
          "data": {
            "image/png": "[encoded data removed]",
            "text/plain": [
              "<Figure size 576x288 with 1 Axes>"
            ]
          },
          "metadata": {},
          "output_type": "display_data"
        }
      ],
      "source": [
        "modelo_MLP_F = MLPRegressor()  \n",
        "modelo_MLP_F.set_params(**mlp_best_param)\n",
        "\n",
        "modelo_MLP_F.fit(X_train_t, np.ravel(y_train_t))\n",
        "\n",
        "importance_MLP = permutation_importance(modelo_MLP_F, X_train_t, np.ravel(y_train_t), n_repeats=100)\n",
        "\n",
        "for i,v in enumerate(importance_MLP['importances_mean']):\n",
        "\tprint('Feature: %0d, Score: %.5f' % (i,v))\n",
        " \n",
        "plt.bar([x for x in range(len(importance_MLP['importances_mean']))], importance_MLP['importances_mean'])\n",
        "plt.show()\n"
      ]
    },
    {
      "cell_type": "markdown",
      "metadata": {
        "id": "VUIcDshs8MzG"
      },
      "source": [
        "#**Ejercicio-10.**"
      ]
    },
    {
      "cell_type": "code",
      "execution_count": null,
      "metadata": {
        "id": "P39pq_r82c6P",
        "outputId": "eeab3b04-0d12-48c1-bed4-539e0f6ec23b"
      },
      "outputs": [
        {
          "data": {
            "text/plain": [
              "{'bootstrap': True,\n",
              " 'ccp_alpha': 0.0,\n",
              " 'criterion': 'squared_error',\n",
              " 'max_depth': None,\n",
              " 'max_features': 1.0,\n",
              " 'max_leaf_nodes': None,\n",
              " 'max_samples': None,\n",
              " 'min_impurity_decrease': 0.0,\n",
              " 'min_samples_leaf': 1,\n",
              " 'min_samples_split': 2,\n",
              " 'min_weight_fraction_leaf': 0.0,\n",
              " 'n_estimators': 100,\n",
              " 'n_jobs': None,\n",
              " 'oob_score': False,\n",
              " 'random_state': None,\n",
              " 'verbose': 0,\n",
              " 'warm_start': False}"
            ]
          },
          "execution_count": 540,
          "metadata": {},
          "output_type": "execute_result"
        }
      ],
      "source": [
        "RandomForestRegressor().get_params()"
      ]
    },
    {
      "cell_type": "code",
      "execution_count": null,
      "metadata": {
        "id": "0lKNJNIt8N88",
        "outputId": "86fb0a9a-3313-48f7-a14d-e2c508f23d19"
      },
      "outputs": [
        {
          "name": "stdout",
          "output_type": "stream",
          "text": [
            "El mejor score es: -0.053850290234529447\n",
            "El mejor parametro es: \n",
            " {'n_estimators': 1600, 'min_samples_split': 10, 'min_samples_leaf': 2, 'max_features': 'sqrt', 'max_depth': 10, 'bootstrap': False}\n"
          ]
        }
      ],
      "source": [
        "modelo_rf_gs = RandomForestRegressor()\n",
        "kfold = RepeatedKFold(n_splits=5, n_repeats=3)\n",
        "\n",
        "Parametros = {'bootstrap': [True, False],\n",
        "              'max_depth': [10, 20, 30, 40, 50, 60, 70, 80, 90, 100, 1000, None],\n",
        "              'max_features': ['auto', 'sqrt'],\n",
        "              'min_samples_leaf': [1, 2, 4],\n",
        "              'min_samples_split': [2, 5, 10],\n",
        "              'n_estimators': [200, 400, 600, 800, 1000, 1200, 1400, 1600, 1800, 2000]\n",
        "              }\n",
        "\n",
        "rf_gridFinal = RandomizedSearchCV(estimator=modelo_rf_gs, param_distributions = Parametros, scoring =  make_scorer(mi_MAPE, greater_is_better=False), cv = kfold, n_iter=1000,n_jobs=-1)\n",
        "                            \n",
        "rf_gridFinal.fit(X_train_t, np.ravel(y_train_t))\n",
        "\n",
        "rf_best_score = rf_gridFinal.best_score_\n",
        "rf_best_param = rf_gridFinal.best_params_\n",
        "print(\"El mejor score es:\", rf_best_score)\n",
        "print(\"El mejor parametro es: \\n\", rf_best_param)"
      ]
    },
    {
      "cell_type": "code",
      "execution_count": null,
      "metadata": {
        "id": "lqpmo5K02c6Q",
        "outputId": "e173f4bc-03d9-4743-db23-9ac869de5886"
      },
      "outputs": [
        {
          "data": {
            "text/plain": [
              "Text(0, 0.5, 'y_train_predict')"
            ]
          },
          "execution_count": 567,
          "metadata": {},
          "output_type": "execute_result"
        },
        {
          "data": {
            "image/png": "[encoded data removed]",
            "text/plain": [
              "<Figure size 720x720 with 1 Axes>"
            ]
          },
          "metadata": {},
          "output_type": "display_data"
        }
      ],
      "source": [
        "figure, ax = plt.subplots(figsize=(10,10))\n",
        "yhat = rf_gridFinal.predict(X_train_t)\n",
        "\n",
        "plt.scatter(y_train_t.ravel(),yhat)\n",
        "line= np.linspace(min(y_train_t),max(y_train_t),10)\n",
        "plt.plot(line, line)\n",
        "plt.xlabel(\"y_train_real\")\n",
        "plt.ylabel(\"y_train_predict\")"
      ]
    },
    {
      "cell_type": "code",
      "execution_count": null,
      "metadata": {
        "id": "vCthWgQw2c6Q",
        "outputId": "021a5e1a-54eb-4ca5-c779-1c94da058b1e"
      },
      "outputs": [
        {
          "name": "stdout",
          "output_type": "stream",
          "text": [
            "Feature: 0, Score: 0.15291\n",
            "Feature: 1, Score: 0.08660\n",
            "Feature: 2, Score: 0.09910\n",
            "Feature: 3, Score: 0.15837\n",
            "Feature: 4, Score: 0.00501\n",
            "Feature: 5, Score: 0.02470\n",
            "Feature: 6, Score: 0.04434\n",
            "Feature: 7, Score: 0.01607\n",
            "Feature: 8, Score: 0.00162\n",
            "Feature: 9, Score: 0.01249\n",
            "Feature: 10, Score: 0.01511\n",
            "Feature: 11, Score: 0.00662\n",
            "Feature: 12, Score: 0.00123\n",
            "Feature: 13, Score: 0.00519\n",
            "Feature: 14, Score: 0.00578\n",
            "Feature: 15, Score: 0.00460\n",
            "Feature: 16, Score: 0.00401\n",
            "Feature: 17, Score: 0.01808\n",
            "Feature: 18, Score: 0.02145\n",
            "Feature: 19, Score: 0.02037\n",
            "Feature: 20, Score: 0.00576\n",
            "Feature: 21, Score: 0.03087\n",
            "Feature: 22, Score: 0.01645\n",
            "Feature: 23, Score: 0.01156\n",
            "Feature: 24, Score: 0.01278\n",
            "Feature: 25, Score: 0.00524\n",
            "Feature: 26, Score: 0.01714\n",
            "Feature: 27, Score: 0.00016\n",
            "Feature: 28, Score: 0.00651\n",
            "Feature: 29, Score: 0.00588\n",
            "Feature: 30, Score: 0.01039\n",
            "Feature: 31, Score: 0.00327\n",
            "Feature: 32, Score: 0.00239\n",
            "Feature: 33, Score: 0.00067\n",
            "Feature: 34, Score: 0.00742\n",
            "Feature: 35, Score: 0.00629\n",
            "Feature: 36, Score: 0.01155\n",
            "Feature: 37, Score: 0.00795\n",
            "Feature: 38, Score: 0.00819\n",
            "Feature: 39, Score: 0.00767\n",
            "Feature: 40, Score: 0.00111\n",
            "Feature: 41, Score: 0.00040\n",
            "Feature: 42, Score: 0.00000\n",
            "Feature: 43, Score: 0.00018\n",
            "Feature: 44, Score: 0.00058\n",
            "Feature: 45, Score: 0.00000\n",
            "Feature: 46, Score: 0.00000\n",
            "Feature: 47, Score: 0.02982\n",
            "Feature: 48, Score: 0.03092\n"
          ]
        },
        {
          "data": {
            "image/png": "[encoded data removed]",
            "text/plain": [
              "<Figure size 576x288 with 1 Axes>"
            ]
          },
          "metadata": {},
          "output_type": "display_data"
        }
      ],
      "source": [
        "modelo_rf_F = RandomForestRegressor()  \n",
        "modelo_rf_F.set_params(**rf_best_param)\n",
        "\n",
        "modelo_rf_F.fit(X_train_t, np.ravel(y_train_t))\n",
        "\n",
        "importance_rf = permutation_importance(modelo_rf_F, X_train_t, np.ravel(y_train_t), n_repeats=100)\n",
        "\n",
        "for i,v in enumerate(importance_rf['importances_mean']):\n",
        "\tprint('Feature: %0d, Score: %.5f' % (i,v))\n",
        " \n",
        "plt.bar([x for x in range(len(importance_rf['importances_mean']))], importance_rf['importances_mean'])\n",
        "plt.show()\n"
      ]
    },
    {
      "cell_type": "markdown",
      "metadata": {
        "id": "5LJl6oql8Pc8"
      },
      "source": [
        "#**Ejercicio-11.**"
      ]
    },
    {
      "cell_type": "code",
      "execution_count": null,
      "metadata": {
        "id": "tnYj0NJq2c6Q",
        "outputId": "31fb8044-8ccc-49c5-a23e-7a9d817fa673"
      },
      "outputs": [
        {
          "data": {
            "text/plain": [
              "{'alpha': 1.0,\n",
              " 'copy_X': True,\n",
              " 'fit_intercept': True,\n",
              " 'max_iter': None,\n",
              " 'normalize': 'deprecated',\n",
              " 'positive': False,\n",
              " 'random_state': None,\n",
              " 'solver': 'auto',\n",
              " 'tol': 0.001}"
            ]
          },
          "execution_count": 542,
          "metadata": {},
          "output_type": "execute_result"
        }
      ],
      "source": [
        "Ridge().get_params()"
      ]
    },
    {
      "cell_type": "code",
      "execution_count": null,
      "metadata": {
        "id": "-YiSnt9t8RfN",
        "outputId": "cc38bc27-881c-4247-a41d-8f6d2892cacb"
      },
      "outputs": [
        {
          "name": "stdout",
          "output_type": "stream",
          "text": [
            "El mejor score es: -0.05540645354718128\n",
            "El mejor parametro es: \n",
            " {'alpha': 5.0, 'fit_intercept': True, 'normalize': False, 'solver': 'sparse_cg'}\n"
          ]
        },
        {
          "name": "stderr",
          "output_type": "stream",
          "text": [
            "c:\\Users\\castrogomez.j\\AppData\\Local\\Programs\\Python\\Python39\\lib\\site-packages\\sklearn\\linear_model\\_base.py:148: FutureWarning: 'normalize' was deprecated in version 1.0 and will be removed in 1.2. Please leave the normalize parameter to its default value to silence this warning. The default behavior of this estimator is to not do any normalization. If normalization is needed please use sklearn.preprocessing.StandardScaler instead.\n",
            "  warnings.warn(\n"
          ]
        }
      ],
      "source": [
        "modelo_lr_gs = Ridge()\n",
        "kfold = RepeatedKFold(n_splits=5, n_repeats=3)\n",
        "\n",
        "Parametros = {'alpha': [1.0, 2.0,5.0,10.0],\n",
        "              'normalize': [True, False],\n",
        "              'fit_intercept': [True, False],\n",
        "              'solver':  [\"auto\", \"svd\", \"cholesky\", \"lsqr\", \"sparse_cg\", \"sag\", \"saga\"]\n",
        "              }\n",
        "\n",
        "lr_gridFinal = GridSearchCV(estimator=modelo_lr_gs, param_grid = Parametros, scoring =  make_scorer(mi_MAPE, greater_is_better=False), cv = kfold, n_jobs=-1)\n",
        "                            \n",
        "lr_gridFinal.fit(X_train_t, np.ravel(y_train_t))\n",
        "\n",
        "lr_best_score = lr_gridFinal.best_score_\n",
        "lr_best_param = lr_gridFinal.best_params_\n",
        "print(\"El mejor score es:\", lr_best_score)\n",
        "print(\"El mejor parametro es: \\n\", lr_best_param)"
      ]
    },
    {
      "cell_type": "code",
      "execution_count": null,
      "metadata": {
        "id": "ZxRkLL3j2c6Q",
        "outputId": "6b76c257-8e7c-4cf1-85ef-371ed018a525"
      },
      "outputs": [
        {
          "data": {
            "text/plain": [
              "Text(0, 0.5, 'y_train_predict')"
            ]
          },
          "execution_count": 568,
          "metadata": {},
          "output_type": "execute_result"
        },
        {
          "data": {
            "image/png": "[encoded data removed]",
            "text/plain": [
              "<Figure size 720x720 with 1 Axes>"
            ]
          },
          "metadata": {},
          "output_type": "display_data"
        }
      ],
      "source": [
        "figure, ax = plt.subplots(figsize=(10,10))\n",
        "yhat = lr_gridFinal.predict(X_train_t)\n",
        "\n",
        "plt.scatter(y_train_t.ravel(),yhat)\n",
        "line= np.linspace(min(y_train_t),max(y_train_t),10)\n",
        "plt.plot(line, line)\n",
        "plt.xlabel(\"y_train_real\")\n",
        "plt.ylabel(\"y_train_predict\")"
      ]
    },
    {
      "cell_type": "code",
      "execution_count": null,
      "metadata": {
        "id": "T5hjpjiy2c6R",
        "outputId": "d5216a54-41dd-4c64-b584-86125f86e493"
      },
      "outputs": [
        {
          "name": "stderr",
          "output_type": "stream",
          "text": [
            "c:\\Users\\castrogomez.j\\AppData\\Local\\Programs\\Python\\Python39\\lib\\site-packages\\sklearn\\linear_model\\_base.py:148: FutureWarning: 'normalize' was deprecated in version 1.0 and will be removed in 1.2. Please leave the normalize parameter to its default value to silence this warning. The default behavior of this estimator is to not do any normalization. If normalization is needed please use sklearn.preprocessing.StandardScaler instead.\n",
            "  warnings.warn(\n"
          ]
        },
        {
          "name": "stdout",
          "output_type": "stream",
          "text": [
            "Feature: 0, Score: 0.02269\n",
            "Feature: 1, Score: 0.15089\n",
            "Feature: 2, Score: 0.03360\n",
            "Feature: 3, Score: 0.22312\n",
            "Feature: 4, Score: 0.00672\n",
            "Feature: 5, Score: 0.00275\n",
            "Feature: 6, Score: 0.00038\n",
            "Feature: 7, Score: 0.00081\n",
            "Feature: 8, Score: 0.00026\n",
            "Feature: 9, Score: 0.01347\n",
            "Feature: 10, Score: 0.01632\n",
            "Feature: 11, Score: 0.00700\n",
            "Feature: 12, Score: 0.00219\n",
            "Feature: 13, Score: 0.00705\n",
            "Feature: 14, Score: 0.00078\n",
            "Feature: 15, Score: 0.00398\n",
            "Feature: 16, Score: 0.00770\n",
            "Feature: 17, Score: 0.00280\n",
            "Feature: 18, Score: 0.03948\n",
            "Feature: 19, Score: 0.02315\n",
            "Feature: 20, Score: 0.00131\n",
            "Feature: 21, Score: 0.00035\n",
            "Feature: 22, Score: 0.00240\n",
            "Feature: 23, Score: 0.00189\n",
            "Feature: 24, Score: 0.00309\n",
            "Feature: 25, Score: 0.00008\n",
            "Feature: 26, Score: 0.00222\n",
            "Feature: 27, Score: 0.00035\n",
            "Feature: 28, Score: 0.00067\n",
            "Feature: 29, Score: 0.00390\n",
            "Feature: 30, Score: 0.00622\n",
            "Feature: 31, Score: 0.00350\n",
            "Feature: 32, Score: 0.00107\n",
            "Feature: 33, Score: 0.00043\n",
            "Feature: 34, Score: 0.00717\n",
            "Feature: 35, Score: 0.00000\n",
            "Feature: 36, Score: 0.01089\n",
            "Feature: 37, Score: 0.00006\n",
            "Feature: 38, Score: 0.00525\n",
            "Feature: 39, Score: 0.00906\n",
            "Feature: 40, Score: 0.00078\n",
            "Feature: 41, Score: 0.00046\n",
            "Feature: 42, Score: 0.00001\n",
            "Feature: 43, Score: 0.00119\n",
            "Feature: 44, Score: 0.00033\n",
            "Feature: 45, Score: 0.00166\n",
            "Feature: 46, Score: 0.00000\n",
            "Feature: 47, Score: 0.00590\n",
            "Feature: 48, Score: 0.00590\n"
          ]
        },
        {
          "data": {
            "image/png": "[encoded data removed]",
            "text/plain": [
              "<Figure size 576x288 with 1 Axes>"
            ]
          },
          "metadata": {},
          "output_type": "display_data"
        }
      ],
      "source": [
        "modelo_lr_F = Ridge()\n",
        "modelo_lr_F.set_params(**lr_best_param)\n",
        "\n",
        "modelo_lr_F.fit(X_train_t, np.ravel(y_train_t))\n",
        "\n",
        "importance_lr = permutation_importance(modelo_lr_F, X_train_t, np.ravel(y_train_t), n_repeats=100)\n",
        "\n",
        "for i,v in enumerate(importance_lr['importances_mean']):\n",
        "\tprint('Feature: %0d, Score: %.5f' % (i,v))\n",
        " \n",
        "plt.bar([x for x in range(len(importance_lr['importances_mean']))], importance_lr['importances_mean'])\n",
        "plt.show()"
      ]
    },
    {
      "cell_type": "code",
      "execution_count": null,
      "metadata": {
        "id": "qAICkS2S2c6R",
        "outputId": "8a6c5a06-2c03-4658-a8b0-438fb14d468e"
      },
      "outputs": [
        {
          "data": {
            "image/png": "[encoded data removed]",
            "text/plain": [
              "<Figure size 576x288 with 1 Axes>"
            ]
          },
          "metadata": {},
          "output_type": "display_data"
        }
      ],
      "source": [
        "modelo_lr_F.coef_\n",
        "plt.bar([x for x in range(len(importance_lr['importances_mean']))], np.abs(modelo_lr_F.coef_))\n",
        "plt.show()"
      ]
    },
    {
      "cell_type": "code",
      "execution_count": null,
      "metadata": {
        "id": "SOiLLJLM2c6R",
        "outputId": "70de58eb-32d4-411b-91ce-d0a477cf6824"
      },
      "outputs": [
        {
          "data": {
            "text/plain": [
              "1.6709267322247947"
            ]
          },
          "execution_count": 586,
          "metadata": {},
          "output_type": "execute_result"
        }
      ],
      "source": [
        "modelo_lr_F.intercept_"
      ]
    },
    {
      "cell_type": "markdown",
      "metadata": {
        "id": "IKW72uyk8Sbc"
      },
      "source": [
        "#**Ejercicio-12.**"
      ]
    },
    {
      "cell_type": "code",
      "execution_count": null,
      "metadata": {
        "id": "gwpz77W38Uq0"
      },
      "outputs": [],
      "source": [
        "None"
      ]
    },
    {
      "cell_type": "code",
      "execution_count": null,
      "metadata": {
        "id": "8v8HL02W8UmW"
      },
      "outputs": [],
      "source": []
    },
    {
      "cell_type": "markdown",
      "metadata": {
        "id": "7ql_r2G-DB_m"
      },
      "source": [
        "###**Fin de la Actividad de la semana 7.**"
      ]
    }
  ],
  "metadata": {
    "colab": {
      "collapsed_sections": [],
      "provenance": []
    },
    "kernelspec": {
      "display_name": "Python 3.9.9 64-bit",
      "language": "python",
      "name": "python3"
    },
    "language_info": {
      "codemirror_mode": {
        "name": "ipython",
        "version": 3
      },
      "file_extension": ".py",
      "mimetype": "text/x-python",
      "name": "python",
      "nbconvert_exporter": "python",
      "pygments_lexer": "ipython3",
      "version": "3.9.9"
    },
    "vscode": {
      "interpreter": {
        "hash": "0c77a1b95bd8b788c9c5a6cc729fa07957783bc19d1ecf39944b0bc93a03b997"
      }
    }
  },
  "nbformat": 4,
  "nbformat_minor": 0
}